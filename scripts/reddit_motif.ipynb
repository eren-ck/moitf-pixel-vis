{
 "cells": [
  {
   "cell_type": "code",
   "execution_count": 1,
   "metadata": {},
   "outputs": [],
   "source": [
    "import numpy as np \n",
    "import networkx as nx\n",
    "import pickle\n",
    "import random \n",
    "import json\n",
    "from tqdm import tqdm"
   ]
  },
  {
   "cell_type": "code",
   "execution_count": 2,
   "metadata": {},
   "outputs": [],
   "source": [
    "def get_motif_abs(graph):\n",
    "    \"\"\"Return a list of motif absolute occurences\n",
    "    \n",
    "    graph: the graph\n",
    "    \"\"\"\n",
    "    # get all triads\n",
    "    triads = nx.triadic_census(graph)\n",
    "    \n",
    "    # remove first three triads \n",
    "    triads_to_remove = ('003', '012', '102')\n",
    "    for k in triads_to_remove:\n",
    "        triads.pop(k, None)\n",
    "    \n",
    "    return list(triads.values())\n",
    "\n",
    "def get_motif_sig_profile(graph, rand_num):\n",
    "    \"\"\"Returns a the graph motif significance profile\n",
    "    \n",
    "    graph: the graph\n",
    "    rand_num: the number of random graphs to compute \n",
    "    \"\"\"    \n",
    "    triads = get_motif_abs(graph)\n",
    "    \n",
    "    # compute rand_num significance profiles of random graphs\n",
    "    rand_triads = [] \n",
    "    \n",
    "    for i in range(rand_num):\n",
    "        # generate random configuration model\n",
    "        din = list(d for n, d in graph.in_degree())\n",
    "        dout = list(d for n, d in graph.out_degree())\n",
    "        rand_graph = nx.directed_configuration_model(din, dout, create_using=nx.DiGraph())\n",
    "\n",
    "        rand_triads.append(get_motif_abs(rand_graph))\n",
    "    \n",
    "    rand_triads = np.array(rand_triads)\n",
    "    \n",
    "    rand_mean = rand_triads.mean(axis=0)\n",
    "    rand_std = rand_triads.std(axis=0)\n",
    "    \n",
    "    # divide and check for zeros \n",
    "    a = (triads - rand_mean)\n",
    "    b = rand_std\n",
    "    z_scores = np.divide(a, b, out=np.zeros_like(a), where=b!=0)\n",
    "    \n",
    "    # normalize Z scores \n",
    "    a = z_scores\n",
    "    b = np.sqrt(np.sum(z_scores**2))\n",
    "    z_scores = np.divide(a, b, out=np.zeros_like(a), where=b!=0)\n",
    "        \n",
    "    return z_scores.tolist()"
   ]
  },
  {
   "cell_type": "code",
   "execution_count": 3,
   "metadata": {},
   "outputs": [],
   "source": [
    "reddit_filename = '../data/reddit/graphs-redditHyperlinks-body_directed.pkl'\n",
    "with open(reddit_filename, 'rb') as f:\n",
    "    graphs = pickle.load(f)"
   ]
  },
  {
   "cell_type": "code",
   "execution_count": 4,
   "metadata": {},
   "outputs": [
    {
     "data": {
      "text/plain": [
       "1217"
      ]
     },
     "execution_count": 4,
     "metadata": {},
     "output_type": "execute_result"
    }
   ],
   "source": [
    "len(graphs)"
   ]
  },
  {
   "cell_type": "code",
   "execution_count": 5,
   "metadata": {},
   "outputs": [],
   "source": [
    "# get subset \n",
    "# graphs = graphs [0:300]\n",
    "# len(graphs)"
   ]
  },
  {
   "cell_type": "code",
   "execution_count": 6,
   "metadata": {},
   "outputs": [],
   "source": [
    "motif_sig_list = []"
   ]
  },
  {
   "cell_type": "code",
   "execution_count": 7,
   "metadata": {},
   "outputs": [
    {
     "name": "stderr",
     "output_type": "stream",
     "text": [
      "1217it [17:24,  1.17it/s]\n"
     ]
    }
   ],
   "source": [
    "for index, G in tqdm(enumerate(graphs)): \n",
    "    motif_sig_list.append(get_motif_sig_profile(G, 100))"
   ]
  },
  {
   "cell_type": "code",
   "execution_count": 8,
   "metadata": {},
   "outputs": [
    {
     "name": "stdout",
     "output_type": "stream",
     "text": [
      "1217\n"
     ]
    }
   ],
   "source": [
    "print(len(motif_sig_list))"
   ]
  },
  {
   "cell_type": "code",
   "execution_count": 9,
   "metadata": {},
   "outputs": [
    {
     "name": "stdout",
     "output_type": "stream",
     "text": [
      "['021D', '021U', '021C', '111D', '111U', '030T', '030C', '201', '120D', '120U', '120C', '210', '300']\n"
     ]
    }
   ],
   "source": [
    "triads = list(nx.algorithms.triads.TRIAD_NAMES)[3:]\n",
    "print(triads)"
   ]
  },
  {
   "cell_type": "code",
   "execution_count": 10,
   "metadata": {},
   "outputs": [],
   "source": [
    "result = {'graphs' : graphs,\n",
    "         'motif_sp' : motif_sig_list,\n",
    "         'motifs' : triads}\n",
    "\n",
    "filename = 'reddit.pkl'\n",
    "pickle.dump( result, open( filename, 'wb' ))"
   ]
  }
 ],
 "metadata": {
  "kernelspec": {
   "display_name": "Python 3",
   "language": "python",
   "name": "python3"
  },
  "language_info": {
   "codemirror_mode": {
    "name": "ipython",
    "version": 3
   },
   "file_extension": ".py",
   "mimetype": "text/x-python",
   "name": "python",
   "nbconvert_exporter": "python",
   "pygments_lexer": "ipython3",
   "version": "3.8.8"
  }
 },
 "nbformat": 4,
 "nbformat_minor": 4
}
