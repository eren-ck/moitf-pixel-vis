{
 "cells": [
  {
   "cell_type": "code",
   "execution_count": 1,
   "metadata": {},
   "outputs": [],
   "source": [
    "import numpy as np \n",
    "import networkx as nx\n",
    "from scipy import stats\n",
    "import pickle\n",
    "import random \n",
    "import json\n",
    "import datetime\n",
    "import math\n",
    "from tqdm import tqdm\n",
    "from fa2 import ForceAtlas2\n",
    "import matplotlib.pyplot as plt\n",
    "import random"
   ]
  },
  {
   "cell_type": "code",
   "execution_count": 2,
   "metadata": {},
   "outputs": [],
   "source": [
    "def get_motif_abs(graph):\n",
    "    \"\"\"Return a list of motif absolute occurences\n",
    "    \n",
    "    graph: the graph\n",
    "    \"\"\"\n",
    "    # get all triads\n",
    "    triads = nx.triadic_census(graph)\n",
    "    \n",
    "    # remove first three triads \n",
    "    triads_to_remove = ('003', '012', '102')\n",
    "    for k in triads_to_remove:\n",
    "        triads.pop(k, None)\n",
    "    \n",
    "    return list(triads.values())\n",
    "\n",
    "def get_motif_sig_profile(graph, rand_num):\n",
    "    \"\"\"Returns a the graph motif significance profile\n",
    "    \n",
    "    graph: the graph\n",
    "    rand_num: the number of random graphs to compute \n",
    "    \"\"\"    \n",
    "    triads = get_motif_abs(graph)\n",
    "    \n",
    "    # compute rand_num significance profiles of random graphs\n",
    "    rand_triads = [] \n",
    "    \n",
    "    din = list(d for n, d in graph.in_degree())\n",
    "    dout = list(d for n, d in graph.out_degree())\n",
    "    \n",
    "    for i in range(rand_num):\n",
    "        # generate random configuration model\n",
    "        rand_graph = nx.directed_configuration_model(din, dout, create_using=nx.DiGraph())\n",
    "        rand_triads.append(get_motif_abs(rand_graph))\n",
    "        \n",
    "    rand_triads = np.array(rand_triads)\n",
    "        \n",
    "    rand_mean = np.round(rand_triads.mean(axis=0), 0)\n",
    "    rand_std = rand_triads.std(axis=0)\n",
    "        \n",
    "    # divide and check for zeros \n",
    "    a = (triads - rand_mean)\n",
    "    b = rand_std\n",
    "    z_scores = np.divide(a, b, out=np.zeros_like(a), where=b!=0)\n",
    "    \n",
    "    # normalize Z scores \n",
    "    a = z_scores\n",
    "    b = np.sqrt(np.sum(z_scores**2))\n",
    "    z_scores = np.divide(a, b, out=np.zeros_like(a), where=b!=0)\n",
    "        \n",
    "    return z_scores.tolist()"
   ]
  },
  {
   "cell_type": "code",
   "execution_count": 3,
   "metadata": {},
   "outputs": [],
   "source": [
    "# din = list(d for n, d in G.in_degree())\n",
    "# dout = list(d for n, d in G.out_degree())\n",
    "# rand_graph = nx.directed_configuration_model(din, dout, create_using=nx.DiGraph(), seed=random.seed())\n",
    "# \n",
    "# get_motif_sig_profile(rand_graph, 1000)"
   ]
  },
  {
   "cell_type": "code",
   "execution_count": 4,
   "metadata": {},
   "outputs": [],
   "source": [
    "# din = list(d for n, d in G.in_degree())\n",
    "# dout = list(d for n, d in G.out_degree())\n",
    "# rand_graph = nx.directed_configuration_model(din, dout, create_using=nx.DiGraph(), seed=0)\n",
    "# get_motif_sig_profile(rand_graph, 1000)"
   ]
  },
  {
   "cell_type": "code",
   "execution_count": 5,
   "metadata": {},
   "outputs": [],
   "source": [
    "graphs = []"
   ]
  },
  {
   "cell_type": "code",
   "execution_count": 6,
   "metadata": {},
   "outputs": [
    {
     "name": "stdout",
     "output_type": "stream",
     "text": [
      "10\n"
     ]
    }
   ],
   "source": [
    "for i in range(0,10):\n",
    "    G = nx.gnr_graph(50+i, 0.8)\n",
    "    graphs.append(G)\n",
    "    \n",
    "print(len(graphs))"
   ]
  },
  {
   "cell_type": "code",
   "execution_count": 7,
   "metadata": {},
   "outputs": [
    {
     "name": "stdout",
     "output_type": "stream",
     "text": [
      "20\n"
     ]
    }
   ],
   "source": [
    "for i in range(0,10):\n",
    "    n = i % 10\n",
    "    e = 3 + i%5\n",
    "    G = nx.ring_of_cliques(3+n, e).to_directed()   \n",
    "    graphs.append(G)\n",
    "    \n",
    "print(len(graphs))"
   ]
  },
  {
   "cell_type": "code",
   "execution_count": 8,
   "metadata": {},
   "outputs": [
    {
     "name": "stdout",
     "output_type": "stream",
     "text": [
      "30\n"
     ]
    }
   ],
   "source": [
    "for i in range(0,10):\n",
    "    n = 50 + i\n",
    "    e = 10 + 2*i\n",
    "    G = nx.gnm_random_graph(50 + i , e, directed=True)\n",
    "    graphs.append(G)\n",
    "    \n",
    "print(len(graphs))"
   ]
  },
  {
   "cell_type": "code",
   "execution_count": 9,
   "metadata": {},
   "outputs": [
    {
     "name": "stdout",
     "output_type": "stream",
     "text": [
      "40\n"
     ]
    }
   ],
   "source": [
    "for i in range(0,10):\n",
    "    n = i % 10\n",
    "    e = 3 + i%3\n",
    "    G = nx.connected_caveman_graph(i, e).to_directed()   \n",
    "    graphs.append(G)\n",
    "    \n",
    "print(len(graphs))"
   ]
  },
  {
   "cell_type": "code",
   "execution_count": 10,
   "metadata": {},
   "outputs": [
    {
     "name": "stdout",
     "output_type": "stream",
     "text": [
      "50\n"
     ]
    }
   ],
   "source": [
    "for i in range(0,10):\n",
    "    G = nx.gnr_graph(50+i, 0.7)\n",
    "    graphs.append(G)\n",
    "    \n",
    "print(len(graphs))"
   ]
  },
  {
   "cell_type": "code",
   "execution_count": 11,
   "metadata": {},
   "outputs": [
    {
     "name": "stdout",
     "output_type": "stream",
     "text": [
      "60\n"
     ]
    }
   ],
   "source": [
    "for i in range(0,10):\n",
    "    G = nx.fast_gnp_random_graph(50+i, 0.1, directed=True)\n",
    "    graphs.append(G)\n",
    "    \n",
    "print(len(graphs))"
   ]
  },
  {
   "cell_type": "code",
   "execution_count": 12,
   "metadata": {},
   "outputs": [],
   "source": [
    "# for i in range(0,20):\n",
    "#     D = nx.erdos_renyi_graph(20, 0.25, directed=True)\n",
    "#     din = list(d for n, d in D.in_degree())\n",
    "#     dout = list(d for n, d in D.out_degree())\n",
    "#     rand_graph = nx.directed_configuration_model(din, dout, create_using=nx.DiGraph())\n",
    "#     graphs.append(rand_graph)\n",
    "# \n",
    "# print(len(graphs))"
   ]
  },
  {
   "cell_type": "code",
   "execution_count": 13,
   "metadata": {},
   "outputs": [],
   "source": [
    "# add time attribute to synthetic data \n",
    "for index, G in enumerate(graphs):\n",
    "    date = datetime.date.today() + datetime.timedelta(days=math.floor(index/24))\n",
    "    hour = index%24\n",
    "    G.graph['time'] = (date, hour)"
   ]
  },
  {
   "cell_type": "code",
   "execution_count": 14,
   "metadata": {},
   "outputs": [
    {
     "name": "stderr",
     "output_type": "stream",
     "text": [
      "100%|██████████| 60/60 [00:00<00:00, 1766.73it/s]\n",
      "100%|██████████| 60/60 [00:00<00:00, 12679.91it/s]\n"
     ]
    }
   ],
   "source": [
    "# Compute the graph layout\n",
    "G = nx.Graph()\n",
    "for graph in tqdm(graphs):\n",
    "    G.add_nodes_from(graph.nodes(data=True))\n",
    "    G.add_edges_from(graph.edges(data=True))\n",
    "\n",
    "forceatlas2 = ForceAtlas2(verbose=False)\n",
    "coordinates = forceatlas2.forceatlas2_networkx_layout(G, pos=None, iterations=1000)\n",
    "\n",
    "# modify positions \n",
    "for graph in tqdm(graphs):\n",
    "    nx.set_node_attributes(graph, coordinates, 'coord')"
   ]
  },
  {
   "cell_type": "code",
   "execution_count": 15,
   "metadata": {},
   "outputs": [],
   "source": [
    "# random.shuffle(graphs)"
   ]
  },
  {
   "cell_type": "code",
   "execution_count": 16,
   "metadata": {},
   "outputs": [],
   "source": [
    "motif_sig_list = []"
   ]
  },
  {
   "cell_type": "code",
   "execution_count": 17,
   "metadata": {},
   "outputs": [
    {
     "name": "stderr",
     "output_type": "stream",
     "text": [
      "60it [00:51,  1.15it/s]\n"
     ]
    }
   ],
   "source": [
    "for index, G in tqdm(enumerate(graphs)): \n",
    "    motif_sig_list.append(get_motif_sig_profile(G, 100))"
   ]
  },
  {
   "cell_type": "code",
   "execution_count": 18,
   "metadata": {},
   "outputs": [
    {
     "name": "stdout",
     "output_type": "stream",
     "text": [
      "60\n"
     ]
    }
   ],
   "source": [
    "print(len(motif_sig_list))"
   ]
  },
  {
   "cell_type": "code",
   "execution_count": 19,
   "metadata": {},
   "outputs": [
    {
     "name": "stdout",
     "output_type": "stream",
     "text": [
      "['021D', '021U', '021C', '111D', '111U', '030T', '030C', '201', '120D', '120U', '120C', '210', '300']\n"
     ]
    }
   ],
   "source": [
    "triads = list(nx.algorithms.triads.TRIAD_NAMES)[3:]\n",
    "print(triads)"
   ]
  },
  {
   "cell_type": "code",
   "execution_count": 20,
   "metadata": {},
   "outputs": [],
   "source": [
    "result = {'graphs' : graphs,\n",
    "         'motif_sp' : motif_sig_list,\n",
    "         'motifs' : triads}\n",
    "\n",
    "filename = 'network_structures.pkl'\n",
    "pickle.dump( result, open( filename, 'wb' ))"
   ]
  },
  {
   "cell_type": "code",
   "execution_count": 21,
   "metadata": {},
   "outputs": [
    {
     "name": "stderr",
     "output_type": "stream",
     "text": [
      "100%|██████████| 60/60 [00:00<00:00, 46655.22it/s]"
     ]
    },
    {
     "name": "stdout",
     "output_type": "stream",
     "text": [
      "150 Nodes\n",
      "Number of edges:  6831\n"
     ]
    },
    {
     "name": "stderr",
     "output_type": "stream",
     "text": [
      "\n"
     ]
    }
   ],
   "source": [
    "print('150 Nodes') \n",
    "\n",
    "edges = 0 \n",
    "for graph in tqdm(graphs):\n",
    "    edges = edges + len(graph.edges)\n",
    "print('Number of edges: ', edges)"
   ]
  },
  {
   "cell_type": "code",
   "execution_count": null,
   "metadata": {},
   "outputs": [],
   "source": []
  }
 ],
 "metadata": {
  "kernelspec": {
   "display_name": "Python 3",
   "language": "python",
   "name": "python3"
  },
  "language_info": {
   "codemirror_mode": {
    "name": "ipython",
    "version": 3
   },
   "file_extension": ".py",
   "mimetype": "text/x-python",
   "name": "python",
   "nbconvert_exporter": "python",
   "pygments_lexer": "ipython3",
   "version": "3.8.8"
  }
 },
 "nbformat": 4,
 "nbformat_minor": 4
}
