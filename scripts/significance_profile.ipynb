{
 "cells": [
  {
   "cell_type": "code",
   "execution_count": 1,
   "id": "5f8acb0b",
   "metadata": {},
   "outputs": [],
   "source": [
    "import numpy as np\n",
    "import networkx as nx"
   ]
  },
  {
   "cell_type": "code",
   "execution_count": 106,
   "id": "89f6e556",
   "metadata": {},
   "outputs": [],
   "source": [
    "def get_motif_abs(graph):\n",
    "    \"\"\"Return a list of motif absolute occurences\n",
    "    \n",
    "    graph: the graph\n",
    "    \"\"\"\n",
    "    # get all triads\n",
    "    triads = nx.triadic_census(graph)\n",
    "    \n",
    "    # remove first three triads \n",
    "    triads_to_remove = ('003', '012', '102')\n",
    "    for k in triads_to_remove:\n",
    "        triads.pop(k, None)\n",
    "    \n",
    "    return list(triads.values())\n",
    "\n",
    "def get_motif_sig_profile(graph, rand_num):\n",
    "    \"\"\"Returns a the graph motif significance profile\n",
    "    \n",
    "    graph: the graph\n",
    "    rand_num: the number of random graphs to compute \n",
    "    \"\"\"    \n",
    "    triads = get_motif_abs(graph)\n",
    "    \n",
    "    # compute rand_num significance profiles of random graphs\n",
    "    rand_triads = [] \n",
    "    \n",
    "    for i in range(rand_num):\n",
    "        # generate random configuration model\n",
    "        din = list(d for n, d in graph.in_degree())\n",
    "        dout = list(d for n, d in graph.out_degree())\n",
    "        rand_graph = nx.directed_configuration_model(din, dout, create_using=nx.DiGraph())\n",
    "\n",
    "        rand_triads.append(get_motif_abs(rand_graph))\n",
    "    \n",
    "    rand_triads = np.array(rand_triads)\n",
    "    \n",
    "    rand_mean = rand_triads.mean(axis=0)\n",
    "    rand_std = rand_triads.std(axis=0)\n",
    "    \n",
    "    # divide and check for zeros \n",
    "    a = (triads - rand_mean)\n",
    "    b = rand_std\n",
    "    z_scores = np.divide(a, b, out=np.zeros_like(a), where=b!=0)\n",
    "    \n",
    "    # normalize Z scores \n",
    "    a = z_scores\n",
    "    b = np.sqrt(np.sum(z_scores**2))\n",
    "    z_scores = np.divide(a, b, out=np.zeros_like(a), where=b!=0)\n",
    "        \n",
    "    return z_scores.tolist()"
   ]
  },
  {
   "cell_type": "code",
   "execution_count": 107,
   "id": "d97eec5d",
   "metadata": {},
   "outputs": [],
   "source": [
    "# create a test directed graph \n",
    "G = nx.fast_gnp_random_graph(50, 0.2, directed=True)"
   ]
  },
  {
   "cell_type": "code",
   "execution_count": 108,
   "id": "b4aa0686",
   "metadata": {},
   "outputs": [
    {
     "data": {
      "text/plain": [
       "[0.3306748663801864,\n",
       " 0.2955430949469171,\n",
       " 0.2616403117313315,\n",
       " 0.24255660015892375,\n",
       " 0.2184249091947977,\n",
       " 0.36391626355388623,\n",
       " 0.2848957421791377,\n",
       " 0.05586295465853454,\n",
       " 0.32704006921276635,\n",
       " 0.2922784384518591,\n",
       " 0.44650680607205867,\n",
       " 0.094721399495001,\n",
       " 0.10423986508935924]"
      ]
     },
     "execution_count": 108,
     "metadata": {},
     "output_type": "execute_result"
    }
   ],
   "source": [
    "get_motif_sig_profile(G, 100)"
   ]
  },
  {
   "cell_type": "code",
   "execution_count": null,
   "id": "2c83d86d",
   "metadata": {},
   "outputs": [],
   "source": []
  }
 ],
 "metadata": {
  "kernelspec": {
   "display_name": "Python 3",
   "language": "python",
   "name": "python3"
  },
  "language_info": {
   "codemirror_mode": {
    "name": "ipython",
    "version": 3
   },
   "file_extension": ".py",
   "mimetype": "text/x-python",
   "name": "python",
   "nbconvert_exporter": "python",
   "pygments_lexer": "ipython3",
   "version": "3.8.8"
  }
 },
 "nbformat": 4,
 "nbformat_minor": 5
}
